{
 "cells": [
  {
   "cell_type": "markdown",
   "id": "354f1192",
   "metadata": {},
   "source": [
    "# Test DB access over NDP "
   ]
  },
  {
   "cell_type": "code",
   "execution_count": null,
   "id": "49d177c0",
   "metadata": {},
   "outputs": [
    {
     "name": "stdout",
     "output_type": "stream",
     "text": [
      "Collecting python-dotenv\n",
      "  Downloading python_dotenv-1.1.1-py3-none-any.whl.metadata (24 kB)\n",
      "  Downloading python_dotenv-1.1.1-py3-none-any.whl.metadata (24 kB)\n",
      "Collecting psycopg[binary]\n",
      "Collecting psycopg[binary]\n",
      "  Downloading psycopg-3.2.11-py3-none-any.whl.metadata (4.5 kB)\n",
      "Requirement already satisfied: typing-extensions>=4.6 in /Users/harry/opt/anaconda3/envs/dse/lib/python3.12/site-packages (from psycopg[binary]) (4.11.0)\n",
      "  Downloading psycopg-3.2.11-py3-none-any.whl.metadata (4.5 kB)\n",
      "Requirement already satisfied: typing-extensions>=4.6 in /Users/harry/opt/anaconda3/envs/dse/lib/python3.12/site-packages (from psycopg[binary]) (4.11.0)\n",
      "Collecting psycopg-binary==3.2.11 (from psycopg[binary])\n",
      "Collecting psycopg-binary==3.2.11 (from psycopg[binary])\n",
      "  Downloading psycopg_binary-3.2.11-cp312-cp312-macosx_11_0_arm64.whl.metadata (2.9 kB)\n",
      "  Downloading psycopg_binary-3.2.11-cp312-cp312-macosx_11_0_arm64.whl.metadata (2.9 kB)\n",
      "Downloading psycopg_binary-3.2.11-cp312-cp312-macosx_11_0_arm64.whl (4.1 MB)\n",
      "\u001b[?25l   \u001b[90m━━━━━━━━━━━━━━━━━━━━━━━━━━━━━━━━━━━━━━━━\u001b[0m \u001b[32m0.0/4.1 MB\u001b[0m \u001b[31m?\u001b[0m eta \u001b[36m-:--:--\u001b[0mDownloading psycopg_binary-3.2.11-cp312-cp312-macosx_11_0_arm64.whl (4.1 MB)\n",
      "\u001b[2K   \u001b[90m━━━━━━━━━━━━━━━━━━━━━━━━━━━━━━━━━━━━━━━━\u001b[0m \u001b[32m4.1/4.1 MB\u001b[0m \u001b[31m18.8 MB/s\u001b[0m eta \u001b[36m0:00:00\u001b[0ma \u001b[36m0:00:01\u001b[0m\n",
      "\u001b[2K   \u001b[90m━━━━━━━━━━━━━━━━━━━━━━━━━━━━━━━━━━━━━━━━\u001b[0m \u001b[32m4.1/4.1 MB\u001b[0m \u001b[31m18.8 MB/s\u001b[0m eta \u001b[36m0:00:00\u001b[0m\n",
      "\u001b[?25hDownloading python_dotenv-1.1.1-py3-none-any.whl (20 kB)\n",
      "Downloading psycopg-3.2.11-py3-none-any.whl (206 kB)\n",
      "\u001b[?25l   \u001b[90m━━━━━━━━━━━━━━━━━━━━━━━━━━━━━━━━━━━━━━━━\u001b[0m \u001b[32m0.0/206.8 kB\u001b[0m \u001b[31m?\u001b[0m eta \u001b[36m-:--:--\u001b[0mDownloading python_dotenv-1.1.1-py3-none-any.whl (20 kB)\n",
      "Downloading psycopg-3.2.11-py3-none-any.whl (206 kB)\n",
      "\u001b[2K   \u001b[90m━━━━━━━━━━━━━━━━━━━━━━━━━━━━━━━━━━━━━━━━\u001b[0m \u001b[32m206.8/206.8 kB\u001b[0m \u001b[31m18.2 MB/s\u001b[0m eta \u001b[36m0:00:00\u001b[0m\n",
      "\u001b[2K   \u001b[90m━━━━━━━━━━━━━━━━━━━━━━━━━━━━━━━━━━━━━━━━\u001b[0m \u001b[32m206.8/206.8 kB\u001b[0m \u001b[31m18.2 MB/s\u001b[0m eta \u001b[36m0:00:00\u001b[0m\n",
      "\u001b[?25hInstalling collected packages: python-dotenv, psycopg-binary, psycopg\n",
      "Installing collected packages: python-dotenv, psycopg-binary, psycopg\n",
      "Successfully installed psycopg-3.2.11 psycopg-binary-3.2.11 python-dotenv-1.1.1\n",
      "Successfully installed psycopg-3.2.11 psycopg-binary-3.2.11 python-dotenv-1.1.1\n"
     ]
    }
   ],
   "source": [
    "# ! pip install psycopg[binary] python-dotenv"
   ]
  },
  {
   "cell_type": "code",
   "execution_count": 6,
   "id": "d7762df9",
   "metadata": {},
   "outputs": [
    {
     "data": {
      "text/plain": [
       "True"
      ]
     },
     "execution_count": 6,
     "metadata": {},
     "output_type": "execute_result"
    }
   ],
   "source": [
    "# Imports for connecting to postgres using psycopg (psycopg3)\n",
    "import psycopg\n",
    "import os\n",
    "from dotenv import load_dotenv\n",
    "load_dotenv()"
   ]
  },
  {
   "cell_type": "code",
   "execution_count": null,
   "id": "e3ba2d14",
   "metadata": {},
   "outputs": [],
   "source": []
  },
  {
   "cell_type": "code",
   "execution_count": 7,
   "id": "9bff9e5d",
   "metadata": {},
   "outputs": [],
   "source": [
    "\n",
    "\n",
    "\n",
    "# Connect to the PostgreSQL database using environment variables\n",
    "# Make sure .env exists locally and load_dotenv() was called earlier\n",
    "conn = psycopg.connect(\n",
    "    dbname=os.getenv(\"DB_NAME\"),\n",
    "    user=os.getenv(\"DB_USER\"),\n",
    "    password=os.getenv(\"DB_PASSWORD\"),\n",
    "    host=os.getenv(\"DB_HOST\"),\n",
    "    port=os.getenv(\"DB_PORT\")\n",
    ")\n",
    "\n"
   ]
  },
  {
   "cell_type": "code",
   "execution_count": 8,
   "id": "0f476672",
   "metadata": {},
   "outputs": [
    {
     "name": "stdout",
     "output_type": "stream",
     "text": [
      "('https://openalex.org/A5023641193', None, 'Emel’yanov AI', ['Emel’yanov AI'], 1, 0, None, 'https://api.openalex.org/works?filter=author.id:A5023641193', datetime.datetime(2025, 2, 20, 11, 31, 18, 698768), [], True, '(0,1)')\n",
      "('https://openalex.org/A5023641195', None, 'Muhammed Abdullah Al Sayem Khan', ['Muhammed Abdullah Al Sayem Khan'], 2, 3, None, 'https://api.openalex.org/works?filter=author.id:A5023641195', datetime.datetime(2025, 2, 19, 17, 27, 33, 161621), ['https://openalex.org/I4576418 (2012–2022)'], True, '(0,2)')\n",
      "('https://openalex.org/A5023641196', None, '张瑜楠', ['张瑜楠'], 1, 0, None, 'https://api.openalex.org/works?filter=author.id:A5023641196', datetime.datetime(2024, 5, 7, 17, 53, 43, 321922), [], True, '(0,3)')\n",
      "('https://openalex.org/A5023641198', None, 'Aa D', ['Aa D'], 1, 0, None, 'https://api.openalex.org/works?filter=author.id:A5023641198', datetime.datetime(2025, 2, 18, 10, 7, 26, 585888), [], True, '(0,4)')\n",
      "('https://openalex.org/A5023641199', None, '直樹 折居', ['直樹 折居'], 1, 0, None, 'https://api.openalex.org/works?filter=author.id:A5023641199', datetime.datetime(2024, 5, 7, 0, 22, 13, 790265), [], True, '(0,5)')\n",
      "('https://openalex.org/A5023641200', None, 'Talita Andrade Santos Molina', ['Talita Andrade Santos Molina'], 1, 0, None, 'https://api.openalex.org/works?filter=author.id:A5023641200', datetime.datetime(2025, 1, 24, 16, 9, 38, 41895), [], True, '(0,6)')\n",
      "('https://openalex.org/A5023641201', None, '三千男 小峯', ['三千男 小峯'], 1, 0, None, 'https://api.openalex.org/works?filter=author.id:A5023641201', datetime.datetime(2024, 5, 7, 7, 45, 52, 315326), [], True, '(0,7)')\n",
      "('https://openalex.org/A5023641202', 'https://orcid.org/0009-0005-3451-184X', 'James L. Kinsella', ['James L. Kinsella', 'James Kinsella', 'J. L. Kinsella', 'J. Kinsella'], 53, 3801, None, 'https://api.openalex.org/works?filter=author.id:A5023641202', datetime.datetime(2025, 2, 20, 2, 28, 1, 660628), ['https://openalex.org/I4210151647 (2018)', 'https://openalex.org/I79619799 (2018)', 'https://openalex.org/I7882870 (2009–2018)', 'https://openalex.org/I2801952686 (2016)', 'https://openalex.org/I2802012704 (2011)', 'https://openalex.org/I170897317 (2011)', 'https://openalex.org/I2801163298 (2008)', 'https://openalex.org/I1299303238 (1984–2002)', 'https://openalex.org/I145311948 (2001)', 'https://openalex.org/I4210102974 (2001)', 'https://openalex.org/I4210136897 (1984–2000)', 'https://openalex.org/I4210088259 (1993–1996)', 'https://openalex.org/I185261750 (1992)', 'https://openalex.org/I32971472 (1982)', 'https://openalex.org/I20388574 (1979)'], True, '(0,8)')\n",
      "('https://openalex.org/A5023641206', None, 'Prof.Gazanfar Ali', ['Prof.Gazanfar Ali'], 1, 0, None, 'https://api.openalex.org/works?filter=author.id:A5023641206', datetime.datetime(2025, 2, 19, 10, 23, 52, 783092), ['https://openalex.org/I150956004 (2016)'], True, '(0,9)')\n",
      "('https://openalex.org/A5038015440', None, 'В.А. Николаев', ['В.А. Николаев'], 1, 7, None, 'https://api.openalex.org/works?filter=author.id:A5038015440', datetime.datetime(2024, 7, 30, 7, 19, 45, 807218), [], True, '(0,10)')\n",
      "('https://openalex.org/A5046309665', None, 'Gwh Silcock', ['Gwh Silcock'], 2, 4, None, 'https://api.openalex.org/works?filter=author.id:A5046309665', datetime.datetime(2025, 2, 20, 10, 25, 38, 319601), [], True, '(0,11)')\n",
      "('https://openalex.org/A5055735070', None, '中立 刘', ['中立 刘'], 1, 9, None, 'https://api.openalex.org/works?filter=author.id:A5055735070', datetime.datetime(2024, 7, 30, 3, 22, 55, 987190), [], True, '(0,12)')\n",
      "('https://openalex.org/A5058711492', None, 'N. LEBLANC', ['N. LEBLANC'], 1, 8, None, 'https://api.openalex.org/works?filter=author.id:A5058711492', datetime.datetime(2024, 7, 30, 0, 30, 45, 156245), [], True, '(0,13)')\n",
      "('https://openalex.org/A5060266195', None, 'James Scholefield', ['James Scholefield'], 1, 7, None, 'https://api.openalex.org/works?filter=author.id:A5060266195', datetime.datetime(2024, 7, 30, 8, 12, 50, 497345), [], True, '(0,14)')\n",
      "('https://openalex.org/A5060471320', None, 'Faisal al-Kasim', ['Faisal al‐Kasim'], 1, 14, None, 'https://api.openalex.org/works?filter=author.id:A5060471320', datetime.datetime(2024, 7, 30, 0, 23, 31, 772844), [], True, '(0,15)')\n",
      "('https://openalex.org/A5069288402', None, 'Patricia Ivonne Buchelli Salazar', ['Patricia Ivonne Buchelli Salazar'], 1, 0, None, 'https://api.openalex.org/works?filter=author.id:A5069288402', datetime.datetime(2025, 2, 22, 20, 53, 35, 478252), [], True, '(0,16)')\n",
      "('https://openalex.org/A5071465789', None, 'Steffen Grzybek', ['Steffen Grzybek'], 1, 28, None, 'https://api.openalex.org/works?filter=author.id:A5071465789', datetime.datetime(2024, 7, 30, 0, 48, 16, 533716), [], True, '(0,17)')\n",
      "('https://openalex.org/A5092216110', None, 'Jana N. Yablonski', ['Jana N. Yablonski'], 1, 1, None, 'https://api.openalex.org/works?filter=author.id:A5092216110', datetime.datetime(2025, 2, 25, 4, 36, 38, 491864), ['https://openalex.org/I79576946 (2023)'], True, '(0,19)')\n",
      "('https://openalex.org/A5071963990', None, 'John B. Hoke', ['John B. Hoke'], 1, 15, None, 'https://api.openalex.org/works?filter=author.id:A5071963990', datetime.datetime(2024, 7, 30, 11, 30, 10, 923192), [], True, '(0,20)')\n",
      "('https://openalex.org/A5099009009', None, 'B. Körner', ['B. Körner'], 1, 23, None, 'https://api.openalex.org/works?filter=author.id:A5099009009', datetime.datetime(2024, 7, 30, 0, 52, 26, 498317), [], True, '(0,23)')\n",
      "('https://openalex.org/A5076346638', None, 'Evgeniya Shchennikova', ['Evgeniya Shchennikova'], 2, 7, None, 'https://api.openalex.org/works?filter=author.id:A5076346638', datetime.datetime(2024, 7, 30, 5, 46, 40, 79571), [], True, '(0,24)')\n",
      "('https://openalex.org/A5099303032', None, 'Р.Н. Пархоменко', ['Р.Н. Пархоменко'], 1, 7, None, 'https://api.openalex.org/works?filter=author.id:A5099303032', datetime.datetime(2024, 7, 30, 8, 25, 29, 265923), [], True, '(0,25)')\n",
      "('https://openalex.org/A5081769890', None, 'G.R. Irwin', ['G.R. Irwin'], 1, 9, None, 'https://api.openalex.org/works?filter=author.id:A5081769890', datetime.datetime(2024, 7, 30, 0, 7, 49, 327861), [], True, '(0,26)')\n",
      "('https://openalex.org/A5084910945', None, 'GISÈLE SAPIRO', ['GISÈLE SAPIRO'], 1, 10, None, 'https://api.openalex.org/works?filter=author.id:A5084910945', datetime.datetime(2024, 7, 30, 9, 43, 40, 233081), [], True, '(0,27)')\n",
      "('https://openalex.org/A5099670849', None, 'Janel Mueller', ['Janel Mueller'], 1, 42, None, 'https://api.openalex.org/works?filter=author.id:A5099670849', datetime.datetime(2024, 7, 30, 10, 40, 13, 402297), [], True, '(0,28)')\n",
      "('https://openalex.org/A5002706967', None, 'E. Flaschel', ['E. Flaschel'], 1, 14, None, 'https://api.openalex.org/works?filter=author.id:A5002706967', datetime.datetime(2024, 7, 30, 11, 33, 35, 271662), [], True, '(0,44)')\n",
      "('https://openalex.org/A5011380270', None, 'H. Gaye', ['H. Gaye'], 1, 15, None, 'https://api.openalex.org/works?filter=author.id:A5011380270', datetime.datetime(2024, 7, 30, 10, 13, 23, 534557), [], True, '(0,45)')\n",
      "('https://openalex.org/A5012338909', None, 'Franz Steinbacher', ['Franz Steinbacher'], 1, 9, None, 'https://api.openalex.org/works?filter=author.id:A5012338909', datetime.datetime(2024, 7, 30, 4, 19, 32, 394246), [], True, '(0,46)')\n",
      "('https://openalex.org/A5012988564', None, 'Thomas Hölscher', ['Thomas Hölscher'], 2, 67, None, 'https://api.openalex.org/works?filter=author.id:A5012988564', datetime.datetime(2024, 7, 30, 11, 2, 28, 789304), [], True, '(0,47)')\n",
      "('https://openalex.org/A5013504216', None, 'Brianne M. Star', ['Brianne M. Star'], 1, 11, None, 'https://api.openalex.org/works?filter=author.id:A5013504216', datetime.datetime(2024, 7, 30, 7, 23, 38, 198067), [], True, '(0,48)')\n",
      "('https://openalex.org/A5014355966', None, 'T. A. Brown', ['T. A. Brown'], 1, 8, None, 'https://api.openalex.org/works?filter=author.id:A5014355966', datetime.datetime(2024, 7, 30, 10, 42, 21, 434171), [], True, '(0,49)')\n",
      "('https://openalex.org/A5014883875', None, 'НУРЖАНОВ НУРЖАНОВ', ['НУРЖАНОВ НУРЖАНОВ'], 1, 6, None, 'https://api.openalex.org/works?filter=author.id:A5014883875', datetime.datetime(2024, 7, 30, 6, 46, 47, 962709), [], True, '(0,50)')\n",
      "('https://openalex.org/A5019733417', None, 'Erich Walter Zimmermann', ['Erich Walter Zimmermann'], 1, 9, None, 'https://api.openalex.org/works?filter=author.id:A5019733417', datetime.datetime(2024, 7, 30, 9, 17, 38, 9861), [], True, '(0,51)')\n",
      "('https://openalex.org/A5022184685', None, 'V. E. Alloĭ', ['V. E. Alloĭ'], 1, 9, None, 'https://api.openalex.org/works?filter=author.id:A5022184685', datetime.datetime(2024, 7, 30, 5, 30, 50, 264200), [], True, '(0,52)')\n",
      "('https://openalex.org/A5023641209', None, '昭元 二村', ['昭元 二村'], 2, 0, None, 'https://api.openalex.org/works?filter=author.id:A5023641209', datetime.datetime(2024, 5, 12, 2, 54, 47, 379340), [], True, '(1,1)')\n",
      "('https://openalex.org/A5046309948', None, 'Stuart Lack', ['Stuart Lack'], 1, 0, None, 'https://api.openalex.org/works?filter=author.id:A5046309948', datetime.datetime(2025, 2, 23, 8, 28, 41, 797508), [], True, '(1,2)')\n",
      "('https://openalex.org/A5049457585', None, 'М.В. Сапожников', ['М.В. Сапожников'], 1, 4, None, 'https://api.openalex.org/works?filter=author.id:A5049457585', datetime.datetime(2024, 7, 30, 8, 34, 48, 430114), [], True, '(1,3)')\n",
      "('https://openalex.org/A5072056627', None, 'L J Buis', ['L J Buis'], 1, 5, None, 'https://api.openalex.org/works?filter=author.id:A5072056627', datetime.datetime(2024, 7, 30, 5, 43, 24, 779483), [], True, '(1,4)')\n",
      "('https://openalex.org/A5072889917', None, 'R. Brettle', ['R. Brettle'], 1, 5, None, 'https://api.openalex.org/works?filter=author.id:A5072889917', datetime.datetime(2024, 7, 30, 10, 7, 4, 539531), [], True, '(1,5)')\n",
      "('https://openalex.org/A5093598455', None, 'Elke Brendel', ['Elke Brendel'], 1, 5, None, 'https://api.openalex.org/works?filter=author.id:A5093598455', datetime.datetime(2024, 7, 30, 10, 34, 26, 73025), [], True, '(1,6)')\n",
      "('https://openalex.org/A5096831764', None, '安永 達也', ['安永 達也'], 1, 6, None, 'https://api.openalex.org/works?filter=author.id:A5096831764', datetime.datetime(2024, 7, 30, 2, 40, 45, 834159), [], True, '(1,7)')\n",
      "('https://openalex.org/A5099283576', None, 'Попова С.М. Яник А.А.', ['Попова С.М. Яник А.А.'], 1, 5, None, 'https://api.openalex.org/works?filter=author.id:A5099283576', datetime.datetime(2024, 7, 30, 1, 48, 16, 165336), [], True, '(1,8)')\n",
      "('https://openalex.org/A5031383042', None, 'Sukani Sukani', ['Sukani Sukani'], 1, 4, None, 'https://api.openalex.org/works?filter=author.id:A5031383042', datetime.datetime(2024, 7, 30, 5, 27, 51, 434889), ['https://openalex.org/I4210120931 (2000)'], True, '(1,10)')\n",
      "('https://openalex.org/A5032204042', None, 'A. J. Gourlay', ['A. J. Gourlay'], 1, 4, None, 'https://api.openalex.org/works?filter=author.id:A5032204042', datetime.datetime(2024, 7, 30, 8, 10, 44, 858660), [], True, '(1,11)')\n",
      "('https://openalex.org/A5032894103', None, 'А. В. Манов', ['А. В. Манов'], 1, 4, None, 'https://api.openalex.org/works?filter=author.id:A5032894103', datetime.datetime(2024, 7, 30, 1, 15, 9, 274874), [], True, '(1,12)')\n",
      "('https://openalex.org/A5050537460', None, 'G. T. Castillo', ['G. T. Castillo'], 1, 5, None, 'https://api.openalex.org/works?filter=author.id:A5050537460', datetime.datetime(2024, 7, 30, 8, 23, 50, 944286), [], True, '(1,13)')\n",
      "('https://openalex.org/A5078442860', None, 'سعید انعامی', ['سعید انعامی'], 1, 5, None, 'https://api.openalex.org/works?filter=author.id:A5078442860', datetime.datetime(2024, 7, 30, 8, 19, 12, 604132), [], True, '(1,14)')\n",
      "('https://openalex.org/A5080365185', None, 'В.В. Бойцова', ['В.В. Бойцова'], 2, 5, None, 'https://api.openalex.org/works?filter=author.id:A5080365185', datetime.datetime(2024, 7, 30, 10, 31, 57, 543873), [], True, '(1,15)')\n",
      "('https://openalex.org/A5081322757', None, 'П. В. Зыбинский', ['П. В. Зыбинский'], 1, 6, None, 'https://api.openalex.org/works?filter=author.id:A5081322757', datetime.datetime(2024, 7, 30, 3, 11, 7, 42001), [], True, '(1,16)')\n",
      "('https://openalex.org/A5082487153', None, 'J F BOREL', ['J F BOREL'], 1, 6, None, 'https://api.openalex.org/works?filter=author.id:A5082487153', datetime.datetime(2024, 7, 30, 1, 4, 54, 471305), [], True, '(1,17)')\n"
     ]
    }
   ],
   "source": [
    "\n",
    "# psycopg3 connections are context managers; use a cursor as a context manager too\n",
    "with conn.cursor() as cur:\n",
    "    cur.execute(\"SELECT t.*, CTID FROM openalex.authors t LIMIT 50\")\n",
    "    rows = cur.fetchall()\n",
    "    for row in rows:\n",
    "        print(row)\n",
    "\n",
    "# Close the connection when done\n",
    "conn.close()\n"
   ]
  }
 ],
 "metadata": {
  "kernelspec": {
   "display_name": "dse",
   "language": "python",
   "name": "python3"
  },
  "language_info": {
   "codemirror_mode": {
    "name": "ipython",
    "version": 3
   },
   "file_extension": ".py",
   "mimetype": "text/x-python",
   "name": "python",
   "nbconvert_exporter": "python",
   "pygments_lexer": "ipython3",
   "version": "3.12.4"
  }
 },
 "nbformat": 4,
 "nbformat_minor": 5
}
